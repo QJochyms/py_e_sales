{
 "cells": [
  {
   "cell_type": "markdown",
   "metadata": {},
   "source": [
    "# <center>Etude du dataset au niveau de la maille visiteur"
   ]
  },
  {
   "cell_type": "markdown",
   "metadata": {},
   "source": [
    "## Chargement des données"
   ]
  },
  {
   "cell_type": "code",
   "execution_count": 1,
   "metadata": {
    "executionInfo": {
     "elapsed": 1347,
     "status": "ok",
     "timestamp": 1609075039081,
     "user": {
      "displayName": "Quentin Jochyms",
      "photoUrl": "",
      "userId": "16094484943561030962"
     },
     "user_tz": -60
    },
    "id": "-QPHx651XxMm"
   },
   "outputs": [],
   "source": [
    "import pandas as pd \n",
    "import numpy as np\n",
    "import matplotlib.pyplot as plt\n",
    "import seaborn as sns\n",
    "from scipy import stats\n",
    "import joblib\n",
    "sns.set()"
   ]
  },
  {
   "cell_type": "code",
   "execution_count": 2,
   "metadata": {},
   "outputs": [
    {
     "name": "stderr",
     "output_type": "stream",
     "text": [
      "C:\\ProgramData\\Anaconda3\\envs\\py_e_sales\\lib\\site-packages\\numpy\\lib\\arraysetops.py:580: FutureWarning: elementwise comparison failed; returning scalar instead, but in the future will perform elementwise comparison\n",
      "  mask |= (ar1 == a)\n"
     ]
    },
    {
     "data": {
      "text/html": [
       "<div>\n",
       "<style scoped>\n",
       "    .dataframe tbody tr th:only-of-type {\n",
       "        vertical-align: middle;\n",
       "    }\n",
       "\n",
       "    .dataframe tbody tr th {\n",
       "        vertical-align: top;\n",
       "    }\n",
       "\n",
       "    .dataframe thead th {\n",
       "        text-align: right;\n",
       "    }\n",
       "</style>\n",
       "<table border=\"1\" class=\"dataframe\">\n",
       "  <thead>\n",
       "    <tr style=\"text-align: right;\">\n",
       "      <th></th>\n",
       "      <th>timestamp</th>\n",
       "      <th>visitorid</th>\n",
       "      <th>event</th>\n",
       "      <th>itemid</th>\n",
       "      <th>transactionid</th>\n",
       "      <th>addtocart</th>\n",
       "      <th>transaction</th>\n",
       "      <th>view</th>\n",
       "      <th>date</th>\n",
       "      <th>month</th>\n",
       "      <th>...</th>\n",
       "      <th>hourclass_1</th>\n",
       "      <th>hourclass_2</th>\n",
       "      <th>hourclass_3</th>\n",
       "      <th>hourclass_4</th>\n",
       "      <th>hourclass_5</th>\n",
       "      <th>hourclass_6</th>\n",
       "      <th>changementsession</th>\n",
       "      <th>time_for_view</th>\n",
       "      <th>time_for_addtocart</th>\n",
       "      <th>time_for_transaction</th>\n",
       "    </tr>\n",
       "  </thead>\n",
       "  <tbody>\n",
       "    <tr>\n",
       "      <th>1361687</th>\n",
       "      <td>1442004589439</td>\n",
       "      <td>0</td>\n",
       "      <td>view</td>\n",
       "      <td>285930</td>\n",
       "      <td>NaN</td>\n",
       "      <td>0</td>\n",
       "      <td>0</td>\n",
       "      <td>1</td>\n",
       "      <td>2015-09-11 20:49:49.439</td>\n",
       "      <td>9</td>\n",
       "      <td>...</td>\n",
       "      <td>0</td>\n",
       "      <td>0</td>\n",
       "      <td>0</td>\n",
       "      <td>0</td>\n",
       "      <td>0</td>\n",
       "      <td>1</td>\n",
       "      <td>False</td>\n",
       "      <td>2.835867</td>\n",
       "      <td>NaN</td>\n",
       "      <td>NaN</td>\n",
       "    </tr>\n",
       "    <tr>\n",
       "      <th>1367212</th>\n",
       "      <td>1442004759591</td>\n",
       "      <td>0</td>\n",
       "      <td>view</td>\n",
       "      <td>357564</td>\n",
       "      <td>NaN</td>\n",
       "      <td>0</td>\n",
       "      <td>0</td>\n",
       "      <td>1</td>\n",
       "      <td>2015-09-11 20:52:39.591</td>\n",
       "      <td>9</td>\n",
       "      <td>...</td>\n",
       "      <td>0</td>\n",
       "      <td>0</td>\n",
       "      <td>0</td>\n",
       "      <td>0</td>\n",
       "      <td>0</td>\n",
       "      <td>1</td>\n",
       "      <td>False</td>\n",
       "      <td>2.626400</td>\n",
       "      <td>NaN</td>\n",
       "      <td>NaN</td>\n",
       "    </tr>\n",
       "    <tr>\n",
       "      <th>1367342</th>\n",
       "      <td>1442004917175</td>\n",
       "      <td>0</td>\n",
       "      <td>view</td>\n",
       "      <td>67045</td>\n",
       "      <td>NaN</td>\n",
       "      <td>0</td>\n",
       "      <td>0</td>\n",
       "      <td>1</td>\n",
       "      <td>2015-09-11 20:55:17.175</td>\n",
       "      <td>9</td>\n",
       "      <td>...</td>\n",
       "      <td>0</td>\n",
       "      <td>0</td>\n",
       "      <td>0</td>\n",
       "      <td>0</td>\n",
       "      <td>0</td>\n",
       "      <td>1</td>\n",
       "      <td>False</td>\n",
       "      <td>NaN</td>\n",
       "      <td>NaN</td>\n",
       "      <td>NaN</td>\n",
       "    </tr>\n",
       "    <tr>\n",
       "      <th>830385</th>\n",
       "      <td>1439487966444</td>\n",
       "      <td>1</td>\n",
       "      <td>view</td>\n",
       "      <td>72028</td>\n",
       "      <td>NaN</td>\n",
       "      <td>0</td>\n",
       "      <td>0</td>\n",
       "      <td>1</td>\n",
       "      <td>2015-08-13 17:46:06.444</td>\n",
       "      <td>8</td>\n",
       "      <td>...</td>\n",
       "      <td>0</td>\n",
       "      <td>0</td>\n",
       "      <td>0</td>\n",
       "      <td>0</td>\n",
       "      <td>1</td>\n",
       "      <td>0</td>\n",
       "      <td>False</td>\n",
       "      <td>NaN</td>\n",
       "      <td>NaN</td>\n",
       "      <td>NaN</td>\n",
       "    </tr>\n",
       "    <tr>\n",
       "      <th>742616</th>\n",
       "      <td>1438969904567</td>\n",
       "      <td>2</td>\n",
       "      <td>view</td>\n",
       "      <td>325215</td>\n",
       "      <td>NaN</td>\n",
       "      <td>0</td>\n",
       "      <td>0</td>\n",
       "      <td>1</td>\n",
       "      <td>2015-08-07 17:51:44.567</td>\n",
       "      <td>8</td>\n",
       "      <td>...</td>\n",
       "      <td>0</td>\n",
       "      <td>0</td>\n",
       "      <td>0</td>\n",
       "      <td>0</td>\n",
       "      <td>1</td>\n",
       "      <td>0</td>\n",
       "      <td>False</td>\n",
       "      <td>1.820383</td>\n",
       "      <td>NaN</td>\n",
       "      <td>NaN</td>\n",
       "    </tr>\n",
       "  </tbody>\n",
       "</table>\n",
       "<p>5 rows × 27 columns</p>\n",
       "</div>"
      ],
      "text/plain": [
       "             timestamp  visitorid event  itemid  transactionid  addtocart  \\\n",
       "1361687  1442004589439          0  view  285930            NaN          0   \n",
       "1367212  1442004759591          0  view  357564            NaN          0   \n",
       "1367342  1442004917175          0  view   67045            NaN          0   \n",
       "830385   1439487966444          1  view   72028            NaN          0   \n",
       "742616   1438969904567          2  view  325215            NaN          0   \n",
       "\n",
       "         transaction  view                     date  month  ...  hourclass_1  \\\n",
       "1361687            0     1  2015-09-11 20:49:49.439      9  ...            0   \n",
       "1367212            0     1  2015-09-11 20:52:39.591      9  ...            0   \n",
       "1367342            0     1  2015-09-11 20:55:17.175      9  ...            0   \n",
       "830385             0     1  2015-08-13 17:46:06.444      8  ...            0   \n",
       "742616             0     1  2015-08-07 17:51:44.567      8  ...            0   \n",
       "\n",
       "         hourclass_2  hourclass_3 hourclass_4  hourclass_5  hourclass_6  \\\n",
       "1361687            0            0           0            0            1   \n",
       "1367212            0            0           0            0            1   \n",
       "1367342            0            0           0            0            1   \n",
       "830385             0            0           0            1            0   \n",
       "742616             0            0           0            1            0   \n",
       "\n",
       "         changementsession  time_for_view  time_for_addtocart  \\\n",
       "1361687              False       2.835867                 NaN   \n",
       "1367212              False       2.626400                 NaN   \n",
       "1367342              False            NaN                 NaN   \n",
       "830385               False            NaN                 NaN   \n",
       "742616               False       1.820383                 NaN   \n",
       "\n",
       "         time_for_transaction  \n",
       "1361687                   NaN  \n",
       "1367212                   NaN  \n",
       "1367342                   NaN  \n",
       "830385                    NaN  \n",
       "742616                    NaN  \n",
       "\n",
       "[5 rows x 27 columns]"
      ]
     },
     "execution_count": 2,
     "metadata": {},
     "output_type": "execute_result"
    }
   ],
   "source": [
    "df = pd.read_csv('data/featured_events.csv', index_col=0)\n",
    "df.head()"
   ]
  },
  {
   "cell_type": "markdown",
   "metadata": {},
   "source": [
    "## Aggrégation des données autour de la maille visiteur"
   ]
  },
  {
   "cell_type": "markdown",
   "metadata": {},
   "source": [
    "L'objectif de cette analyse va etre de regrouper les données par visiteur. Le but final sera de faire un model de prédiction de potentiel d'achat lors de leur passage sur le site. "
   ]
  },
  {
   "cell_type": "code",
   "execution_count": 3,
   "metadata": {
    "colab": {
     "base_uri": "https://localhost:8080/",
     "height": 238
    },
    "executionInfo": {
     "elapsed": 243921,
     "status": "ok",
     "timestamp": 1608642894849,
     "user": {
      "displayName": "Quentin Jochyms",
      "photoUrl": "",
      "userId": "16094484943561030962"
     },
     "user_tz": -60
    },
    "id": "XWFj9PPjfe7R",
    "outputId": "19805cbe-a4ba-4ee6-978b-0fbba53c3625"
   },
   "outputs": [],
   "source": [
    "vis = df.groupby('visitorid').agg(nb_event = ('itemid','count'),\n",
    "                                  nb_unique_item = ('itemid', lambda x:x.nunique()),\n",
    "                                  nb_view = ('view','sum'),\n",
    "                                  nb_addtocart = ('addtocart','sum'),\n",
    "                                  nb_transaction = ('transaction','sum'),\n",
    "                                  nb_transactionid = ('transactionid',lambda x: x.nunique()),\n",
    "                                  nb_interruptionnav = ('changementsession','sum'),\n",
    "                                  nb_event_of_most_interesting_item = ('itemid', lambda x: x.value_counts().max()),\n",
    "                                  mean_diftime = ('diftime(m)','mean'),\n",
    "                                  std_diftime = ('diftime(m)','std'),\n",
    "                                  full_time_session = ('timestamp', lambda x: (x.max()-x.min())/60000), #conversion en minutes\n",
    "                                  mean_time_per_view = ('time_for_view','mean'),\n",
    "                                  mean_time_per_addtocart = ('time_for_addtocart', 'mean'),\n",
    "                                  nb_hclass1 = ('hourclass_1','sum'),\n",
    "                                  nb_hclass2 = ('hourclass_2','sum'),\n",
    "                                  nb_hclass3 = ('hourclass_3','sum'),\n",
    "                                  nb_hclass4 = ('hourclass_4','sum'),\n",
    "                                  nb_hclass5 = ('hourclass_5','sum'),\n",
    "                                  nb_hclass6 = ('hourclass_6','sum'),\n",
    "                                  nb_week_end = ('weekend','sum'))\n"
   ]
  },
  {
   "cell_type": "markdown",
   "metadata": {},
   "source": [
    "Pour décrire les visiteurs, nous avons choisi d'utiliser 20 variables:\n",
    "   - nb_event: le nombre de clic effectué par un même utilisateur\n",
    "   - nb_unique_item: le nombre de produits différents qu'un client a consulté. Plus ce chiffre est bas plus le visiteur\n",
    "        aura fait des action sur le même produits et plus cela montre un intéret pour ce produit \n",
    "   - nb_view: le nombre d'action 'view' réalisées par un même client\n",
    "   - nb_addtocart: le nombre d'action 'addtocart' réalisées par un même client\n",
    "   - nb_transaction: le nombre d'action 'transaction' réalisées par un même client\n",
    "   - nb_transactionid: le nombre d'action 'transactionid' réalisées par un même client. Ce nombre est différent de\n",
    "        nb_transaction car un transactionid peut concerner plusieurs produits. \n",
    "   - nb_interruptionnav: Lorsque qu'un visisteur reste inactif plus de 13h entre deux clics, On considère qu'a la reprise\n",
    "        qu'il a oublié de fermer son navigateur et donc que cela correspond à une nouvelle session de navigation. \n",
    "   - nb_event_of_most_interesting_item: Parmi les articles vu par un même client, on s'intéresse à l'article le plus vu.\n",
    "        On récupère le nombre d'event lié à cet item. \n",
    "   - mean_diftime: moyenne du temps entre deux actions\n",
    "   - std_diftime: ecart_type du temps entre deux actions\n",
    "   - full_time_session: temps entre la première action et la dernière action effectuée par un même client\n",
    "   - mean_time_per_view: moyen du temps passé par action 'view'\n",
    "   - mean_time_per_addtocart: moyen du temps passé par action 'addtocart'\n",
    "   - nb_classX: plusieurs plages horaires ont été définies et on comptabilise le nombre d'action pour chaque plage horaire.\n",
    "        * 1: minuit à 4h(exclus)\n",
    "        * 2: 4h à 8h(exclus)\n",
    "        * 3: 8h à 12(exclus)\n",
    "        * 4: 12h à 16h(exclus)\n",
    "        * 5: 16 à 20h(exclus)\n",
    "        * 6: 20 à minuit(exclus)\n",
    " \n",
    "   - nb_week_end: nombre d'action faites le week end"
   ]
  },
  {
   "cell_type": "code",
   "execution_count": 4,
   "metadata": {},
   "outputs": [
    {
     "data": {
      "text/plain": [
       "nb_event                                   0\n",
       "nb_unique_item                             0\n",
       "nb_view                                    0\n",
       "nb_addtocart                               0\n",
       "nb_transaction                             0\n",
       "nb_transactionid                           0\n",
       "nb_interruptionnav                         0\n",
       "nb_event_of_most_interesting_item          0\n",
       "mean_diftime                         1001614\n",
       "std_diftime                          1207621\n",
       "full_time_session                          0\n",
       "mean_time_per_view                   1064125\n",
       "mean_time_per_addtocart              1383139\n",
       "nb_hclass1                                 0\n",
       "nb_hclass2                                 0\n",
       "nb_hclass3                                 0\n",
       "nb_hclass4                                 0\n",
       "nb_hclass5                                 0\n",
       "nb_hclass6                                 0\n",
       "nb_week_end                                0\n",
       "dtype: int64"
      ]
     },
     "execution_count": 4,
     "metadata": {},
     "output_type": "execute_result"
    }
   ],
   "source": [
    "vis.isna().sum()"
   ]
  },
  {
   "cell_type": "code",
   "execution_count": 5,
   "metadata": {},
   "outputs": [],
   "source": [
    "vis.fillna(0, inplace=True)"
   ]
  },
  {
   "cell_type": "code",
   "execution_count": 6,
   "metadata": {},
   "outputs": [
    {
     "data": {
      "text/html": [
       "<div>\n",
       "<style scoped>\n",
       "    .dataframe tbody tr th:only-of-type {\n",
       "        vertical-align: middle;\n",
       "    }\n",
       "\n",
       "    .dataframe tbody tr th {\n",
       "        vertical-align: top;\n",
       "    }\n",
       "\n",
       "    .dataframe thead th {\n",
       "        text-align: right;\n",
       "    }\n",
       "</style>\n",
       "<table border=\"1\" class=\"dataframe\">\n",
       "  <thead>\n",
       "    <tr style=\"text-align: right;\">\n",
       "      <th></th>\n",
       "      <th>nb_event</th>\n",
       "      <th>nb_unique_item</th>\n",
       "      <th>nb_view</th>\n",
       "      <th>nb_addtocart</th>\n",
       "      <th>nb_transaction</th>\n",
       "      <th>nb_transactionid</th>\n",
       "      <th>nb_interruptionnav</th>\n",
       "      <th>nb_event_of_most_interesting_item</th>\n",
       "      <th>mean_diftime</th>\n",
       "      <th>std_diftime</th>\n",
       "      <th>full_time_session</th>\n",
       "      <th>mean_time_per_view</th>\n",
       "      <th>mean_time_per_addtocart</th>\n",
       "      <th>nb_hclass1</th>\n",
       "      <th>nb_hclass2</th>\n",
       "      <th>nb_hclass3</th>\n",
       "      <th>nb_hclass4</th>\n",
       "      <th>nb_hclass5</th>\n",
       "      <th>nb_hclass6</th>\n",
       "      <th>nb_week_end</th>\n",
       "    </tr>\n",
       "  </thead>\n",
       "  <tbody>\n",
       "    <tr>\n",
       "      <th>count</th>\n",
       "      <td>1407580.00</td>\n",
       "      <td>1407580.00</td>\n",
       "      <td>1407580.00</td>\n",
       "      <td>1407580.00</td>\n",
       "      <td>1407580.00</td>\n",
       "      <td>1407580.00</td>\n",
       "      <td>1407580.00</td>\n",
       "      <td>1407580.00</td>\n",
       "      <td>1407580.00</td>\n",
       "      <td>1407580.00</td>\n",
       "      <td>1407580.00</td>\n",
       "      <td>1407580.00</td>\n",
       "      <td>1407580.00</td>\n",
       "      <td>1407580.00</td>\n",
       "      <td>1407580.00</td>\n",
       "      <td>1407580.00</td>\n",
       "      <td>1407580.00</td>\n",
       "      <td>1407580.00</td>\n",
       "      <td>1407580.00</td>\n",
       "      <td>1407580.00</td>\n",
       "    </tr>\n",
       "    <tr>\n",
       "      <th>mean</th>\n",
       "      <td>1.96</td>\n",
       "      <td>1.52</td>\n",
       "      <td>1.89</td>\n",
       "      <td>0.05</td>\n",
       "      <td>0.02</td>\n",
       "      <td>0.01</td>\n",
       "      <td>0.16</td>\n",
       "      <td>1.32</td>\n",
       "      <td>6.24</td>\n",
       "      <td>4.59</td>\n",
       "      <td>3420.71</td>\n",
       "      <td>7.37</td>\n",
       "      <td>0.26</td>\n",
       "      <td>0.41</td>\n",
       "      <td>0.28</td>\n",
       "      <td>0.06</td>\n",
       "      <td>0.21</td>\n",
       "      <td>0.50</td>\n",
       "      <td>0.50</td>\n",
       "      <td>0.45</td>\n",
       "    </tr>\n",
       "    <tr>\n",
       "      <th>std</th>\n",
       "      <td>12.58</td>\n",
       "      <td>7.14</td>\n",
       "      <td>10.99</td>\n",
       "      <td>1.16</td>\n",
       "      <td>0.83</td>\n",
       "      <td>0.68</td>\n",
       "      <td>0.88</td>\n",
       "      <td>1.38</td>\n",
       "      <td>40.09</td>\n",
       "      <td>30.72</td>\n",
       "      <td>16748.37</td>\n",
       "      <td>46.07</td>\n",
       "      <td>8.31</td>\n",
       "      <td>2.27</td>\n",
       "      <td>1.17</td>\n",
       "      <td>0.51</td>\n",
       "      <td>1.57</td>\n",
       "      <td>5.08</td>\n",
       "      <td>4.74</td>\n",
       "      <td>2.82</td>\n",
       "    </tr>\n",
       "    <tr>\n",
       "      <th>min</th>\n",
       "      <td>1.00</td>\n",
       "      <td>1.00</td>\n",
       "      <td>0.00</td>\n",
       "      <td>0.00</td>\n",
       "      <td>0.00</td>\n",
       "      <td>0.00</td>\n",
       "      <td>0.00</td>\n",
       "      <td>1.00</td>\n",
       "      <td>0.00</td>\n",
       "      <td>0.00</td>\n",
       "      <td>0.00</td>\n",
       "      <td>0.00</td>\n",
       "      <td>0.00</td>\n",
       "      <td>0.00</td>\n",
       "      <td>0.00</td>\n",
       "      <td>0.00</td>\n",
       "      <td>0.00</td>\n",
       "      <td>0.00</td>\n",
       "      <td>0.00</td>\n",
       "      <td>0.00</td>\n",
       "    </tr>\n",
       "    <tr>\n",
       "      <th>5%</th>\n",
       "      <td>1.00</td>\n",
       "      <td>1.00</td>\n",
       "      <td>1.00</td>\n",
       "      <td>0.00</td>\n",
       "      <td>0.00</td>\n",
       "      <td>0.00</td>\n",
       "      <td>0.00</td>\n",
       "      <td>1.00</td>\n",
       "      <td>0.00</td>\n",
       "      <td>0.00</td>\n",
       "      <td>0.00</td>\n",
       "      <td>0.00</td>\n",
       "      <td>0.00</td>\n",
       "      <td>0.00</td>\n",
       "      <td>0.00</td>\n",
       "      <td>0.00</td>\n",
       "      <td>0.00</td>\n",
       "      <td>0.00</td>\n",
       "      <td>0.00</td>\n",
       "      <td>0.00</td>\n",
       "    </tr>\n",
       "    <tr>\n",
       "      <th>25%</th>\n",
       "      <td>1.00</td>\n",
       "      <td>1.00</td>\n",
       "      <td>1.00</td>\n",
       "      <td>0.00</td>\n",
       "      <td>0.00</td>\n",
       "      <td>0.00</td>\n",
       "      <td>0.00</td>\n",
       "      <td>1.00</td>\n",
       "      <td>0.00</td>\n",
       "      <td>0.00</td>\n",
       "      <td>0.00</td>\n",
       "      <td>0.00</td>\n",
       "      <td>0.00</td>\n",
       "      <td>0.00</td>\n",
       "      <td>0.00</td>\n",
       "      <td>0.00</td>\n",
       "      <td>0.00</td>\n",
       "      <td>0.00</td>\n",
       "      <td>0.00</td>\n",
       "      <td>0.00</td>\n",
       "    </tr>\n",
       "    <tr>\n",
       "      <th>50%</th>\n",
       "      <td>1.00</td>\n",
       "      <td>1.00</td>\n",
       "      <td>1.00</td>\n",
       "      <td>0.00</td>\n",
       "      <td>0.00</td>\n",
       "      <td>0.00</td>\n",
       "      <td>0.00</td>\n",
       "      <td>1.00</td>\n",
       "      <td>0.00</td>\n",
       "      <td>0.00</td>\n",
       "      <td>0.00</td>\n",
       "      <td>0.00</td>\n",
       "      <td>0.00</td>\n",
       "      <td>0.00</td>\n",
       "      <td>0.00</td>\n",
       "      <td>0.00</td>\n",
       "      <td>0.00</td>\n",
       "      <td>0.00</td>\n",
       "      <td>0.00</td>\n",
       "      <td>0.00</td>\n",
       "    </tr>\n",
       "    <tr>\n",
       "      <th>75%</th>\n",
       "      <td>2.00</td>\n",
       "      <td>1.00</td>\n",
       "      <td>2.00</td>\n",
       "      <td>0.00</td>\n",
       "      <td>0.00</td>\n",
       "      <td>0.00</td>\n",
       "      <td>0.00</td>\n",
       "      <td>1.00</td>\n",
       "      <td>0.00</td>\n",
       "      <td>0.00</td>\n",
       "      <td>0.78</td>\n",
       "      <td>0.00</td>\n",
       "      <td>0.00</td>\n",
       "      <td>0.00</td>\n",
       "      <td>0.00</td>\n",
       "      <td>0.00</td>\n",
       "      <td>0.00</td>\n",
       "      <td>1.00</td>\n",
       "      <td>1.00</td>\n",
       "      <td>1.00</td>\n",
       "    </tr>\n",
       "    <tr>\n",
       "      <th>95%</th>\n",
       "      <td>5.00</td>\n",
       "      <td>3.00</td>\n",
       "      <td>5.00</td>\n",
       "      <td>0.00</td>\n",
       "      <td>0.00</td>\n",
       "      <td>0.00</td>\n",
       "      <td>1.00</td>\n",
       "      <td>3.00</td>\n",
       "      <td>16.21</td>\n",
       "      <td>6.34</td>\n",
       "      <td>14846.15</td>\n",
       "      <td>18.12</td>\n",
       "      <td>0.00</td>\n",
       "      <td>2.00</td>\n",
       "      <td>1.00</td>\n",
       "      <td>0.00</td>\n",
       "      <td>1.00</td>\n",
       "      <td>2.00</td>\n",
       "      <td>2.00</td>\n",
       "      <td>2.00</td>\n",
       "    </tr>\n",
       "    <tr>\n",
       "      <th>max</th>\n",
       "      <td>7757.00</td>\n",
       "      <td>3814.00</td>\n",
       "      <td>6479.00</td>\n",
       "      <td>719.00</td>\n",
       "      <td>559.00</td>\n",
       "      <td>502.00</td>\n",
       "      <td>128.00</td>\n",
       "      <td>308.00</td>\n",
       "      <td>799.76</td>\n",
       "      <td>565.42</td>\n",
       "      <td>198680.92</td>\n",
       "      <td>799.76</td>\n",
       "      <td>793.94</td>\n",
       "      <td>1246.00</td>\n",
       "      <td>245.00</td>\n",
       "      <td>108.00</td>\n",
       "      <td>743.00</td>\n",
       "      <td>3026.00</td>\n",
       "      <td>2742.00</td>\n",
       "      <td>1369.00</td>\n",
       "    </tr>\n",
       "  </tbody>\n",
       "</table>\n",
       "</div>"
      ],
      "text/plain": [
       "         nb_event  nb_unique_item     nb_view  nb_addtocart  nb_transaction  \\\n",
       "count  1407580.00      1407580.00  1407580.00    1407580.00      1407580.00   \n",
       "mean         1.96            1.52        1.89          0.05            0.02   \n",
       "std         12.58            7.14       10.99          1.16            0.83   \n",
       "min          1.00            1.00        0.00          0.00            0.00   \n",
       "5%           1.00            1.00        1.00          0.00            0.00   \n",
       "25%          1.00            1.00        1.00          0.00            0.00   \n",
       "50%          1.00            1.00        1.00          0.00            0.00   \n",
       "75%          2.00            1.00        2.00          0.00            0.00   \n",
       "95%          5.00            3.00        5.00          0.00            0.00   \n",
       "max       7757.00         3814.00     6479.00        719.00          559.00   \n",
       "\n",
       "       nb_transactionid  nb_interruptionnav  \\\n",
       "count        1407580.00          1407580.00   \n",
       "mean               0.01                0.16   \n",
       "std                0.68                0.88   \n",
       "min                0.00                0.00   \n",
       "5%                 0.00                0.00   \n",
       "25%                0.00                0.00   \n",
       "50%                0.00                0.00   \n",
       "75%                0.00                0.00   \n",
       "95%                0.00                1.00   \n",
       "max              502.00              128.00   \n",
       "\n",
       "       nb_event_of_most_interesting_item  mean_diftime  std_diftime  \\\n",
       "count                         1407580.00    1407580.00   1407580.00   \n",
       "mean                                1.32          6.24         4.59   \n",
       "std                                 1.38         40.09        30.72   \n",
       "min                                 1.00          0.00         0.00   \n",
       "5%                                  1.00          0.00         0.00   \n",
       "25%                                 1.00          0.00         0.00   \n",
       "50%                                 1.00          0.00         0.00   \n",
       "75%                                 1.00          0.00         0.00   \n",
       "95%                                 3.00         16.21         6.34   \n",
       "max                               308.00        799.76       565.42   \n",
       "\n",
       "       full_time_session  mean_time_per_view  mean_time_per_addtocart  \\\n",
       "count         1407580.00          1407580.00               1407580.00   \n",
       "mean             3420.71                7.37                     0.26   \n",
       "std             16748.37               46.07                     8.31   \n",
       "min                 0.00                0.00                     0.00   \n",
       "5%                  0.00                0.00                     0.00   \n",
       "25%                 0.00                0.00                     0.00   \n",
       "50%                 0.00                0.00                     0.00   \n",
       "75%                 0.78                0.00                     0.00   \n",
       "95%             14846.15               18.12                     0.00   \n",
       "max            198680.92              799.76                   793.94   \n",
       "\n",
       "       nb_hclass1  nb_hclass2  nb_hclass3  nb_hclass4  nb_hclass5  nb_hclass6  \\\n",
       "count  1407580.00  1407580.00  1407580.00  1407580.00  1407580.00  1407580.00   \n",
       "mean         0.41        0.28        0.06        0.21        0.50        0.50   \n",
       "std          2.27        1.17        0.51        1.57        5.08        4.74   \n",
       "min          0.00        0.00        0.00        0.00        0.00        0.00   \n",
       "5%           0.00        0.00        0.00        0.00        0.00        0.00   \n",
       "25%          0.00        0.00        0.00        0.00        0.00        0.00   \n",
       "50%          0.00        0.00        0.00        0.00        0.00        0.00   \n",
       "75%          0.00        0.00        0.00        0.00        1.00        1.00   \n",
       "95%          2.00        1.00        0.00        1.00        2.00        2.00   \n",
       "max       1246.00      245.00      108.00      743.00     3026.00     2742.00   \n",
       "\n",
       "       nb_week_end  \n",
       "count   1407580.00  \n",
       "mean          0.45  \n",
       "std           2.82  \n",
       "min           0.00  \n",
       "5%            0.00  \n",
       "25%           0.00  \n",
       "50%           0.00  \n",
       "75%           1.00  \n",
       "95%           2.00  \n",
       "max        1369.00  "
      ]
     },
     "execution_count": 6,
     "metadata": {},
     "output_type": "execute_result"
    }
   ],
   "source": [
    "vis.describe([0.05,0.25,0.5,0.75, 0.95]).round(2)"
   ]
  },
  {
   "cell_type": "markdown",
   "metadata": {},
   "source": [
    "Dans cette description du Dataset, on remarque encore le deséquilibre des données. Jusqu'à 50% du dataset, les valeurs des variables sont les valeurs minimums et on voit une augmentation soudaine aux alentours du 95 centile. "
   ]
  },
  {
   "cell_type": "markdown",
   "metadata": {},
   "source": [
    "## Création de la variable cible"
   ]
  },
  {
   "cell_type": "code",
   "execution_count": 7,
   "metadata": {
    "scrolled": true
   },
   "outputs": [],
   "source": [
    "vis['has_bought'] = vis['nb_transaction']!=0\n",
    "vis.drop(['nb_transaction', 'nb_transactionid'], axis=True, inplace=True)"
   ]
  },
  {
   "cell_type": "markdown",
   "metadata": {},
   "source": [
    "Répartition de la variable cible"
   ]
  },
  {
   "cell_type": "code",
   "execution_count": 8,
   "metadata": {},
   "outputs": [
    {
     "data": {
      "text/plain": [
       "False    0.991674\n",
       "True     0.008326\n",
       "Name: has_bought, dtype: float64"
      ]
     },
     "execution_count": 8,
     "metadata": {},
     "output_type": "execute_result"
    }
   ],
   "source": [
    "vis['has_bought'].value_counts(normalize=True)"
   ]
  },
  {
   "cell_type": "markdown",
   "metadata": {},
   "source": [
    "Analyse la moyenne de chaque variable par apport à la target"
   ]
  },
  {
   "cell_type": "code",
   "execution_count": 9,
   "metadata": {},
   "outputs": [
    {
     "data": {
      "text/html": [
       "<div>\n",
       "<style scoped>\n",
       "    .dataframe tbody tr th:only-of-type {\n",
       "        vertical-align: middle;\n",
       "    }\n",
       "\n",
       "    .dataframe tbody tr th {\n",
       "        vertical-align: top;\n",
       "    }\n",
       "\n",
       "    .dataframe thead th {\n",
       "        text-align: right;\n",
       "    }\n",
       "</style>\n",
       "<table border=\"1\" class=\"dataframe\">\n",
       "  <thead>\n",
       "    <tr style=\"text-align: right;\">\n",
       "      <th></th>\n",
       "      <th>nb_event</th>\n",
       "      <th>nb_unique_item</th>\n",
       "      <th>nb_view</th>\n",
       "      <th>nb_addtocart</th>\n",
       "      <th>nb_interruptionnav</th>\n",
       "      <th>nb_event_of_most_interesting_item</th>\n",
       "      <th>mean_diftime</th>\n",
       "      <th>std_diftime</th>\n",
       "      <th>full_time_session</th>\n",
       "      <th>mean_time_per_view</th>\n",
       "      <th>mean_time_per_addtocart</th>\n",
       "      <th>nb_hclass1</th>\n",
       "      <th>nb_hclass2</th>\n",
       "      <th>nb_hclass3</th>\n",
       "      <th>nb_hclass4</th>\n",
       "      <th>nb_hclass5</th>\n",
       "      <th>nb_hclass6</th>\n",
       "      <th>nb_week_end</th>\n",
       "    </tr>\n",
       "    <tr>\n",
       "      <th>has_bought</th>\n",
       "      <th></th>\n",
       "      <th></th>\n",
       "      <th></th>\n",
       "      <th></th>\n",
       "      <th></th>\n",
       "      <th></th>\n",
       "      <th></th>\n",
       "      <th></th>\n",
       "      <th></th>\n",
       "      <th></th>\n",
       "      <th></th>\n",
       "      <th></th>\n",
       "      <th></th>\n",
       "      <th></th>\n",
       "      <th></th>\n",
       "      <th></th>\n",
       "      <th></th>\n",
       "      <th></th>\n",
       "    </tr>\n",
       "  </thead>\n",
       "  <tbody>\n",
       "    <tr>\n",
       "      <th>False</th>\n",
       "      <td>1.808944</td>\n",
       "      <td>1.456735</td>\n",
       "      <td>1.779171</td>\n",
       "      <td>0.029774</td>\n",
       "      <td>0.154225</td>\n",
       "      <td>1.282492</td>\n",
       "      <td>6.161115</td>\n",
       "      <td>4.374926</td>\n",
       "      <td>3324.098885</td>\n",
       "      <td>7.295153</td>\n",
       "      <td>0.184617</td>\n",
       "      <td>0.387903</td>\n",
       "      <td>0.264352</td>\n",
       "      <td>0.055056</td>\n",
       "      <td>0.194262</td>\n",
       "      <td>0.450493</td>\n",
       "      <td>0.456879</td>\n",
       "      <td>0.428189</td>\n",
       "    </tr>\n",
       "    <tr>\n",
       "      <th>True</th>\n",
       "      <td>19.677959</td>\n",
       "      <td>9.538271</td>\n",
       "      <td>15.423074</td>\n",
       "      <td>2.338595</td>\n",
       "      <td>1.204540</td>\n",
       "      <td>5.288591</td>\n",
       "      <td>15.720068</td>\n",
       "      <td>30.697138</td>\n",
       "      <td>14927.639506</td>\n",
       "      <td>16.743453</td>\n",
       "      <td>8.943206</td>\n",
       "      <td>3.428364</td>\n",
       "      <td>1.588361</td>\n",
       "      <td>0.263845</td>\n",
       "      <td>1.901783</td>\n",
       "      <td>6.573172</td>\n",
       "      <td>5.922434</td>\n",
       "      <td>3.571124</td>\n",
       "    </tr>\n",
       "  </tbody>\n",
       "</table>\n",
       "</div>"
      ],
      "text/plain": [
       "             nb_event  nb_unique_item    nb_view  nb_addtocart  \\\n",
       "has_bought                                                       \n",
       "False        1.808944        1.456735   1.779171      0.029774   \n",
       "True        19.677959        9.538271  15.423074      2.338595   \n",
       "\n",
       "            nb_interruptionnav  nb_event_of_most_interesting_item  \\\n",
       "has_bought                                                          \n",
       "False                 0.154225                           1.282492   \n",
       "True                  1.204540                           5.288591   \n",
       "\n",
       "            mean_diftime  std_diftime  full_time_session  mean_time_per_view  \\\n",
       "has_bought                                                                     \n",
       "False           6.161115     4.374926        3324.098885            7.295153   \n",
       "True           15.720068    30.697138       14927.639506           16.743453   \n",
       "\n",
       "            mean_time_per_addtocart  nb_hclass1  nb_hclass2  nb_hclass3  \\\n",
       "has_bought                                                                \n",
       "False                      0.184617    0.387903    0.264352    0.055056   \n",
       "True                       8.943206    3.428364    1.588361    0.263845   \n",
       "\n",
       "            nb_hclass4  nb_hclass5  nb_hclass6  nb_week_end  \n",
       "has_bought                                                   \n",
       "False         0.194262    0.450493    0.456879     0.428189  \n",
       "True          1.901783    6.573172    5.922434     3.571124  "
      ]
     },
     "execution_count": 9,
     "metadata": {},
     "output_type": "execute_result"
    }
   ],
   "source": [
    "vis.groupby('has_bought').mean()"
   ]
  },
  {
   "cell_type": "code",
   "execution_count": 10,
   "metadata": {},
   "outputs": [
    {
     "data": {
      "image/png": "[encoded data removed]",
      "text/plain": [
       "<Figure size 576x2160 with 1 Axes>"
      ]
     },
     "metadata": {},
     "output_type": "display_data"
    }
   ],
   "source": [
    "plt.figure(figsize=(8,30))\n",
    "sns.countplot(data=vis,y='nb_interruptionnav', hue='has_bought')\n",
    "plt.title(\"Nombre visiteur (ayant acheté ou non) en fontcion du nombre d'interruption de navigation\")\n",
    "plt.xscale('log');"
   ]
  },
  {
   "cell_type": "code",
   "execution_count": 11,
   "metadata": {
    "scrolled": true
   },
   "outputs": [
    {
     "data": {
      "image/png": "[encoded data removed]",
      "text/plain": [
       "<Figure size 576x2160 with 1 Axes>"
      ]
     },
     "metadata": {},
     "output_type": "display_data"
    }
   ],
   "source": [
    "plt.figure(figsize=(8,30))\n",
    "sns.countplot(data=vis, y='nb_event_of_most_interesting_item', hue='has_bought')\n",
    "plt.title(\"Nombre visiteur (ayant acheté ou non) en fontcion du nombre d'action en lien avec le produit le plus intéressant\")\n",
    "plt.xscale('log');"
   ]
  },
  {
   "cell_type": "markdown",
   "metadata": {},
   "source": [
    "Dans un parcours standard, il faut:\n",
    "   - 1 event pour voir le produit\n",
    "   - 1 event pour ajouter le produit\n",
    "   - 1 event pour acheter le produit<br>\n",
    "Il parait donc normal que la proportion de visteur ayant acheté soit supérieure pour des nombre d'event par item plus grand ou égal à 3. "
   ]
  },
  {
   "cell_type": "code",
   "execution_count": 12,
   "metadata": {
    "id": "BobXvU8xlOUu"
   },
   "outputs": [],
   "source": [
    "vis.to_csv(\"data/visitor_df.csv\")"
   ]
  },
  {
   "cell_type": "code",
   "execution_count": 13,
   "metadata": {
    "colab": {
     "base_uri": "https://localhost:8080/",
     "height": 295
    },
    "executionInfo": {
     "elapsed": 3812,
     "status": "ok",
     "timestamp": 1608800889825,
     "user": {
      "displayName": "Quentin Jochyms",
      "photoUrl": "",
      "userId": "16094484943561030962"
     },
     "user_tz": -60
    },
    "id": "vXyseDDlyQp4",
    "outputId": "6bbb0d9d-ae26-4e14-c242-c857fc5ddf10"
   },
   "outputs": [
    {
     "name": "stderr",
     "output_type": "stream",
     "text": [
      "C:\\ProgramData\\Anaconda3\\envs\\py_e_sales\\lib\\site-packages\\numpy\\lib\\arraysetops.py:580: FutureWarning: elementwise comparison failed; returning scalar instead, but in the future will perform elementwise comparison\n",
      "  mask |= (ar1 == a)\n"
     ]
    }
   ],
   "source": [
    "vis = pd.read_csv('data/visitor_df.csv', index_col=0)"
   ]
  },
  {
   "cell_type": "markdown",
   "metadata": {},
   "source": [
    "## Classification des visiteurs"
   ]
  },
  {
   "cell_type": "markdown",
   "metadata": {},
   "source": [
    "On souhaite réaliser une classification pour essayer d'isoler les comportements des visiteurs."
   ]
  },
  {
   "cell_type": "code",
   "execution_count": 16,
   "metadata": {
    "id": "Hdln_B87uHwH"
   },
   "outputs": [],
   "source": [
    "from sklearn.preprocessing import QuantileTransformer"
   ]
  },
  {
   "cell_type": "markdown",
   "metadata": {},
   "source": [
    "On choisi un quantile scaler plutot qu'un minmax pour garder l'information sur la disparité de la distribution"
   ]
  },
  {
   "cell_type": "code",
   "execution_count": 17,
   "metadata": {
    "id": "X3UTDBuZaol7"
   },
   "outputs": [],
   "source": [
    "quantile_scaler = QuantileTransformer()\n",
    "\n",
    "data = quantile_scaler.fit_transform(vis)\n",
    "\n",
    "data = pd.DataFrame(data, columns=vis.columns)"
   ]
  },
  {
   "cell_type": "code",
   "execution_count": 18,
   "metadata": {
    "colab": {
     "base_uri": "https://localhost:8080/",
     "height": 227
    },
    "executionInfo": {
     "elapsed": 698,
     "status": "ok",
     "timestamp": 1608653047679,
     "user": {
      "displayName": "Quentin Jochyms",
      "photoUrl": "",
      "userId": "16094484943561030962"
     },
     "user_tz": -60
    },
    "id": "AR99-Os7Li8R",
    "outputId": "40d9e363-f7a2-4ef2-e304-6a3d788d8a87"
   },
   "outputs": [
    {
     "data": {
      "text/html": [
       "<div>\n",
       "<style scoped>\n",
       "    .dataframe tbody tr th:only-of-type {\n",
       "        vertical-align: middle;\n",
       "    }\n",
       "\n",
       "    .dataframe tbody tr th {\n",
       "        vertical-align: top;\n",
       "    }\n",
       "\n",
       "    .dataframe thead th {\n",
       "        text-align: right;\n",
       "    }\n",
       "</style>\n",
       "<table border=\"1\" class=\"dataframe\">\n",
       "  <thead>\n",
       "    <tr style=\"text-align: right;\">\n",
       "      <th></th>\n",
       "      <th>nb_event</th>\n",
       "      <th>nb_unique_item</th>\n",
       "      <th>nb_view</th>\n",
       "      <th>nb_addtocart</th>\n",
       "      <th>nb_interruptionnav</th>\n",
       "      <th>nb_event_of_most_interesting_item</th>\n",
       "      <th>mean_diftime</th>\n",
       "      <th>std_diftime</th>\n",
       "      <th>full_time_session</th>\n",
       "      <th>mean_time_per_view</th>\n",
       "      <th>mean_time_per_addtocart</th>\n",
       "      <th>nb_hclass1</th>\n",
       "      <th>nb_hclass2</th>\n",
       "      <th>nb_hclass3</th>\n",
       "      <th>nb_hclass4</th>\n",
       "      <th>nb_hclass5</th>\n",
       "      <th>nb_hclass6</th>\n",
       "      <th>nb_week_end</th>\n",
       "      <th>has_bought</th>\n",
       "    </tr>\n",
       "  </thead>\n",
       "  <tbody>\n",
       "    <tr>\n",
       "      <th>0</th>\n",
       "      <td>0.885385</td>\n",
       "      <td>0.933934</td>\n",
       "      <td>0.892392</td>\n",
       "      <td>0.0</td>\n",
       "      <td>0.0</td>\n",
       "      <td>0.000000</td>\n",
       "      <td>0.890050</td>\n",
       "      <td>0.873786</td>\n",
       "      <td>0.823597</td>\n",
       "      <td>0.886501</td>\n",
       "      <td>0.0</td>\n",
       "      <td>0.0</td>\n",
       "      <td>0.000000</td>\n",
       "      <td>0.0</td>\n",
       "      <td>0.0</td>\n",
       "      <td>0.000000</td>\n",
       "      <td>0.973473</td>\n",
       "      <td>0.000000</td>\n",
       "      <td>0.0</td>\n",
       "    </tr>\n",
       "    <tr>\n",
       "      <th>1</th>\n",
       "      <td>0.000000</td>\n",
       "      <td>0.000000</td>\n",
       "      <td>0.360360</td>\n",
       "      <td>0.0</td>\n",
       "      <td>0.0</td>\n",
       "      <td>0.000000</td>\n",
       "      <td>0.000000</td>\n",
       "      <td>0.000000</td>\n",
       "      <td>0.000000</td>\n",
       "      <td>0.000000</td>\n",
       "      <td>0.0</td>\n",
       "      <td>0.0</td>\n",
       "      <td>0.000000</td>\n",
       "      <td>0.0</td>\n",
       "      <td>0.0</td>\n",
       "      <td>0.825325</td>\n",
       "      <td>0.000000</td>\n",
       "      <td>0.000000</td>\n",
       "      <td>0.0</td>\n",
       "    </tr>\n",
       "    <tr>\n",
       "      <th>2</th>\n",
       "      <td>0.977477</td>\n",
       "      <td>0.961962</td>\n",
       "      <td>0.979980</td>\n",
       "      <td>0.0</td>\n",
       "      <td>0.0</td>\n",
       "      <td>0.957457</td>\n",
       "      <td>0.908209</td>\n",
       "      <td>0.935862</td>\n",
       "      <td>0.867479</td>\n",
       "      <td>0.906371</td>\n",
       "      <td>0.0</td>\n",
       "      <td>0.0</td>\n",
       "      <td>0.000000</td>\n",
       "      <td>0.0</td>\n",
       "      <td>0.0</td>\n",
       "      <td>0.995996</td>\n",
       "      <td>0.000000</td>\n",
       "      <td>0.000000</td>\n",
       "      <td>0.0</td>\n",
       "    </tr>\n",
       "    <tr>\n",
       "      <th>3</th>\n",
       "      <td>0.000000</td>\n",
       "      <td>0.000000</td>\n",
       "      <td>0.360360</td>\n",
       "      <td>0.0</td>\n",
       "      <td>0.0</td>\n",
       "      <td>0.000000</td>\n",
       "      <td>0.000000</td>\n",
       "      <td>0.000000</td>\n",
       "      <td>0.000000</td>\n",
       "      <td>0.000000</td>\n",
       "      <td>0.0</td>\n",
       "      <td>0.0</td>\n",
       "      <td>0.897397</td>\n",
       "      <td>0.0</td>\n",
       "      <td>0.0</td>\n",
       "      <td>0.000000</td>\n",
       "      <td>0.000000</td>\n",
       "      <td>0.835836</td>\n",
       "      <td>0.0</td>\n",
       "    </tr>\n",
       "    <tr>\n",
       "      <th>4</th>\n",
       "      <td>0.000000</td>\n",
       "      <td>0.000000</td>\n",
       "      <td>0.360360</td>\n",
       "      <td>0.0</td>\n",
       "      <td>0.0</td>\n",
       "      <td>0.000000</td>\n",
       "      <td>0.000000</td>\n",
       "      <td>0.000000</td>\n",
       "      <td>0.000000</td>\n",
       "      <td>0.000000</td>\n",
       "      <td>0.0</td>\n",
       "      <td>0.0</td>\n",
       "      <td>0.000000</td>\n",
       "      <td>0.0</td>\n",
       "      <td>0.0</td>\n",
       "      <td>0.000000</td>\n",
       "      <td>0.823323</td>\n",
       "      <td>0.000000</td>\n",
       "      <td>0.0</td>\n",
       "    </tr>\n",
       "  </tbody>\n",
       "</table>\n",
       "</div>"
      ],
      "text/plain": [
       "   nb_event  nb_unique_item   nb_view  nb_addtocart  nb_interruptionnav  \\\n",
       "0  0.885385        0.933934  0.892392           0.0                 0.0   \n",
       "1  0.000000        0.000000  0.360360           0.0                 0.0   \n",
       "2  0.977477        0.961962  0.979980           0.0                 0.0   \n",
       "3  0.000000        0.000000  0.360360           0.0                 0.0   \n",
       "4  0.000000        0.000000  0.360360           0.0                 0.0   \n",
       "\n",
       "   nb_event_of_most_interesting_item  mean_diftime  std_diftime  \\\n",
       "0                           0.000000      0.890050     0.873786   \n",
       "1                           0.000000      0.000000     0.000000   \n",
       "2                           0.957457      0.908209     0.935862   \n",
       "3                           0.000000      0.000000     0.000000   \n",
       "4                           0.000000      0.000000     0.000000   \n",
       "\n",
       "   full_time_session  mean_time_per_view  mean_time_per_addtocart  nb_hclass1  \\\n",
       "0           0.823597            0.886501                      0.0         0.0   \n",
       "1           0.000000            0.000000                      0.0         0.0   \n",
       "2           0.867479            0.906371                      0.0         0.0   \n",
       "3           0.000000            0.000000                      0.0         0.0   \n",
       "4           0.000000            0.000000                      0.0         0.0   \n",
       "\n",
       "   nb_hclass2  nb_hclass3  nb_hclass4  nb_hclass5  nb_hclass6  nb_week_end  \\\n",
       "0    0.000000         0.0         0.0    0.000000    0.973473     0.000000   \n",
       "1    0.000000         0.0         0.0    0.825325    0.000000     0.000000   \n",
       "2    0.000000         0.0         0.0    0.995996    0.000000     0.000000   \n",
       "3    0.897397         0.0         0.0    0.000000    0.000000     0.835836   \n",
       "4    0.000000         0.0         0.0    0.000000    0.823323     0.000000   \n",
       "\n",
       "   has_bought  \n",
       "0         0.0  \n",
       "1         0.0  \n",
       "2         0.0  \n",
       "3         0.0  \n",
       "4         0.0  "
      ]
     },
     "execution_count": 18,
     "metadata": {},
     "output_type": "execute_result"
    }
   ],
   "source": [
    "data.head()"
   ]
  },
  {
   "cell_type": "code",
   "execution_count": 19,
   "metadata": {
    "colab": {
     "base_uri": "https://localhost:8080/"
    },
    "executionInfo": {
     "elapsed": 828,
     "status": "ok",
     "timestamp": 1608653060175,
     "user": {
      "displayName": "Quentin Jochyms",
      "photoUrl": "",
      "userId": "16094484943561030962"
     },
     "user_tz": -60
    },
    "id": "pxEhZZAUqo6n",
    "outputId": "7f9b2c57-2575-459c-86b8-7bf575004774"
   },
   "outputs": [
    {
     "data": {
      "text/plain": [
       "['data/quantile_scaler.sav']"
      ]
     },
     "execution_count": 19,
     "metadata": {},
     "output_type": "execute_result"
    }
   ],
   "source": [
    "joblib.dump(quantile_scaler,\"data/quantile_scaler.sav\")"
   ]
  },
  {
   "cell_type": "code",
   "execution_count": 20,
   "metadata": {
    "id": "Rq_WfUGAjTsj"
   },
   "outputs": [],
   "source": [
    "from sklearn.cluster import KMeans\n",
    "from scipy.spatial.distance import cdist\n",
    "import time"
   ]
  },
  {
   "cell_type": "markdown",
   "metadata": {},
   "source": [
    "Méthode du coude afinde déterminé le nombre optimal de cluster"
   ]
  },
  {
   "cell_type": "code",
   "execution_count": 21,
   "metadata": {
    "colab": {
     "base_uri": "https://localhost:8080/",
     "height": 623
    },
    "executionInfo": {
     "elapsed": 1876720,
     "status": "ok",
     "timestamp": 1608656635414,
     "user": {
      "displayName": "Quentin Jochyms",
      "photoUrl": "",
      "userId": "16094484943561030962"
     },
     "user_tz": -60
    },
    "id": "GJmcf4JIMsD4",
    "outputId": "f83b4c0d-e079-4eec-ac45-613ba020b841"
   },
   "outputs": [
    {
     "name": "stdout",
     "output_type": "stream",
     "text": [
      "training with nb clusters = 10\n",
      "training done in 0.89 min, with a distortion of 817890.57\n",
      "training with nb clusters = 20\n",
      "training done in 1.53 min, with a distortion of 503868.16\n",
      "training with nb clusters = 30\n",
      "training done in 2.19 min, with a distortion of 351955.44\n",
      "training with nb clusters = 40\n",
      "training done in 3.60 min, with a distortion of 311708.91\n",
      "training with nb clusters = 50\n",
      "training done in 4.95 min, with a distortion of 277970.61\n",
      "training with nb clusters = 60\n",
      "training done in 6.12 min, with a distortion of 253601.55\n",
      "training with nb clusters = 70\n",
      "training done in 7.28 min, with a distortion of 230412.85\n",
      "training with nb clusters = 80\n",
      "training done in 8.40 min, with a distortion of 215641.05\n",
      "training with nb clusters = 90\n",
      "training done in 8.89 min, with a distortion of 201194.11\n"
     ]
    },
    {
     "data": {
      "text/plain": [
       "[<matplotlib.lines.Line2D at 0x24efab45948>]"
      ]
     },
     "execution_count": 21,
     "metadata": {},
     "output_type": "execute_result"
    },
    {
     "data": {
      "image/png": "[encoded data removed]",
      "text/plain": [
       "<Figure size 432x288 with 1 Axes>"
      ]
     },
     "metadata": {},
     "output_type": "display_data"
    }
   ],
   "source": [
    "nb_cluster = np.arange(10,100,10)\n",
    "dist=[]\n",
    "\n",
    "for k in nb_cluster:\n",
    "  print(f'training with nb clusters = {k}')\n",
    "  t = time.time()\n",
    "  kmeans = KMeans(n_clusters=k)\n",
    "  kmeans.fit(data)\n",
    "  mat_dist = cdist(data, kmeans.cluster_centers_)\n",
    "  d = np.min(mat_dist, axis=1).sum()\n",
    "  dist.append(d)\n",
    "  print(f'training done in {(time.time()-t)/60:.2f} min, with a distortion of {d:.2f}')\n",
    "\n",
    "plt.plot(nb_cluster, dist)"
   ]
  },
  {
   "cell_type": "code",
   "execution_count": 22,
   "metadata": {
    "id": "hUbfDxm46I5E"
   },
   "outputs": [],
   "source": [
    "kmeans = KMeans(n_clusters=40).fit(data)"
   ]
  },
  {
   "cell_type": "code",
   "execution_count": 23,
   "metadata": {},
   "outputs": [
    {
     "data": {
      "text/plain": [
       "['data/kmeans.sav']"
      ]
     },
     "execution_count": 23,
     "metadata": {},
     "output_type": "execute_result"
    }
   ],
   "source": [
    "joblib.dump(kmeans,\"data/kmeans.sav\")"
   ]
  },
  {
   "cell_type": "code",
   "execution_count": 24,
   "metadata": {},
   "outputs": [],
   "source": [
    "kmeans = joblib.load(\"data/kmeans.sav\")"
   ]
  },
  {
   "cell_type": "code",
   "execution_count": 25,
   "metadata": {
    "colab": {
     "base_uri": "https://localhost:8080/",
     "height": 212
    },
    "executionInfo": {
     "elapsed": 597,
     "status": "error",
     "timestamp": 1608731605500,
     "user": {
      "displayName": "Quentin Jochyms",
      "photoUrl": "",
      "userId": "16094484943561030962"
     },
     "user_tz": -60
    },
    "id": "oYyc5i7C6qCo",
    "outputId": "b86cdd63-24fb-4ebe-e250-edb1fae638f0"
   },
   "outputs": [],
   "source": [
    "clusters = pd.DataFrame(kmeans.cluster_centers_, columns= data.columns)\n",
    "\n",
    "clusters_df = pd.DataFrame(quantile_scaler.inverse_transform(clusters), columns=clusters.columns)\n"
   ]
  },
  {
   "cell_type": "code",
   "execution_count": 26,
   "metadata": {},
   "outputs": [],
   "source": [
    "clusters_df.to_csv('data/cluster_df.csv')"
   ]
  },
  {
   "cell_type": "code",
   "execution_count": 27,
   "metadata": {
    "colab": {
     "base_uri": "https://localhost:8080/",
     "height": 1000
    },
    "executionInfo": {
     "elapsed": 1055,
     "status": "ok",
     "timestamp": 1608731496909,
     "user": {
      "displayName": "Quentin Jochyms",
      "photoUrl": "",
      "userId": "16094484943561030962"
     },
     "user_tz": -60
    },
    "id": "gWtRI6av1jWp",
    "outputId": "0ed96e63-3dc8-44cf-b4df-06cae5a2b153"
   },
   "outputs": [],
   "source": [
    "clusters_df = pd.read_csv(\"data/cluster_df.csv\", index_col=0)"
   ]
  },
  {
   "cell_type": "markdown",
   "metadata": {},
   "source": [
    "Représentation des résultats de classification"
   ]
  },
  {
   "cell_type": "code",
   "execution_count": 30,
   "metadata": {
    "colab": {
     "base_uri": "https://localhost:8080/",
     "height": 597
    },
    "executionInfo": {
     "elapsed": 1818,
     "status": "ok",
     "timestamp": 1608740881030,
     "user": {
      "displayName": "Quentin Jochyms",
      "photoUrl": "",
      "userId": "16094484943561030962"
     },
     "user_tz": -60
    },
    "id": "Izmq-aoy8mYG",
    "outputId": "6c3e0e58-6f0b-45b4-893c-4496445653ce"
   },
   "outputs": [
    {
     "data": {
      "image/png": "[encoded data removed]",
      "text/plain": [
       "<Figure size 2160x1440 with 2 Axes>"
      ]
     },
     "metadata": {},
     "output_type": "display_data"
    }
   ],
   "source": [
    "from scipy.cluster.hierarchy import linkage, dendrogram\n",
    "\n",
    "Z = linkage(clusters_df, method='ward', metric='euclidean')\n",
    "\n",
    "fig, axes = plt.subplots(2,1,figsize=(30,20))\n",
    "\n",
    "t=8000\n",
    "\n",
    "dendrogram(Z, labels = clusters_df.index, leaf_rotation = 0, color_threshold = t,ax=axes[0])\n",
    "axes[0].tick_params(axis='both', which='major', labelsize=20)\n",
    "axes[0].axhline(y=t)\n",
    "\n",
    "dendrogram(Z, labels = clusters_df.index, leaf_rotation = 0, color_threshold = t,ax=axes[1]);\n",
    "axes[1].tick_params(axis='both', which='major', labelsize=20)\n",
    "axes[1].axhline(y=t)\n",
    "axes[1].set_yscale('symlog')"
   ]
  },
  {
   "cell_type": "markdown",
   "metadata": {},
   "source": [
    "Les clusters 6,17,5,27,4,33,1,18,14,2,7 regroupent les visiteurs n'ayant réalisé qu'une action avec très peu de mauvaise classification"
   ]
  },
  {
   "cell_type": "markdown",
   "metadata": {},
   "source": [
    "les groupes qui regroupes les visitors ayant un temps de session quasi exclusivement supérieur à 800 minutes sont:\n",
    "    31,37,39,29,35,15,16,13,34 qui correspondent au regroupement effectué par la CAH.\n",
    "    \n",
    "Quand on regarde le nombre d'achats dans chaque classe, on peut séparer ses visiteurs de la même manière que la cah: \n",
    "    31,37,39,29,35 : correspondent à des temps de sessions longues mais presque pas d'achat\n",
    "    15,16,13,34 : correspondent à des temps de sessions longues mais avec plus de proportions d'achat"
   ]
  }
 ],
 "metadata": {
  "colab": {
   "collapsed_sections": [],
   "name": "Copie de Dataviz' projet e-commerce.ipynb",
   "provenance": [
    {
     "file_id": "1ZJBM2kaZGw_NrtWI-YeviH01X3nq5QYB",
     "timestamp": 1608622087110
    }
   ]
  },
  "kernelspec": {
   "display_name": "Python 3",
   "language": "python",
   "name": "python3"
  },
  "language_info": {
   "codemirror_mode": {
    "name": "ipython",
    "version": 3
   },
   "file_extension": ".py",
   "mimetype": "text/x-python",
   "name": "python",
   "nbconvert_exporter": "python",
   "pygments_lexer": "ipython3",
   "version": "3.7.9"
  }
 },
 "nbformat": 4,
 "nbformat_minor": 1
}
